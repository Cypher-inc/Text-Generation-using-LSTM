{
  "cells": [
    {
      "cell_type": "code",
      "execution_count": 4,
      "id": "adc8692e",
      "metadata": {
        "id": "adc8692e"
      },
      "outputs": [],
      "source": [
        "import pandas as pd\n",
        "import matplotlib.pyplot as plt\n",
        "import seaborn as sns\n",
        "import numpy as np"
      ]
    },
    {
      "cell_type": "markdown",
      "source": [
        "### Importing the Dataset"
      ],
      "metadata": {
        "id": "UcQZ1NbVvSr3"
      },
      "id": "UcQZ1NbVvSr3"
    },
    {
      "cell_type": "code",
      "execution_count": 5,
      "id": "840c9370",
      "metadata": {
        "colab": {
          "base_uri": "https://localhost:8080/"
        },
        "id": "840c9370",
        "outputId": "4f98104e-4f3e-46f4-9882-8a365c18ea1a"
      },
      "outputs": [
        {
          "output_type": "stream",
          "name": "stderr",
          "text": [
            "[nltk_data] Downloading package gutenberg to /root/nltk_data...\n"
          ]
        },
        {
          "output_type": "stream",
          "name": "stdout",
          "text": [
            "['austen-emma.txt', 'austen-persuasion.txt', 'austen-sense.txt', 'bible-kjv.txt', 'blake-poems.txt', 'bryant-stories.txt', 'burgess-busterbrown.txt', 'carroll-alice.txt', 'chesterton-ball.txt', 'chesterton-brown.txt', 'chesterton-thursday.txt', 'edgeworth-parents.txt', 'melville-moby_dick.txt', 'milton-paradise.txt', 'shakespeare-caesar.txt', 'shakespeare-hamlet.txt', 'shakespeare-macbeth.txt', 'whitman-leaves.txt']\n"
          ]
        },
        {
          "output_type": "stream",
          "name": "stderr",
          "text": [
            "[nltk_data]   Unzipping corpora/gutenberg.zip.\n"
          ]
        }
      ],
      "source": [
        "import nltk\n",
        "nltk.download('gutenberg')\n",
        "from nltk.corpus import gutenberg\n",
        "\n",
        "# List available books\n",
        "print(gutenberg.fileids())\n",
        "\n",
        "# Load one book\n",
        "text = gutenberg.raw('bible-kjv.txt')\n",
        "\n"
      ]
    },
    {
      "cell_type": "markdown",
      "id": "e13dfd02",
      "metadata": {
        "id": "e13dfd02"
      },
      "source": [
        "### Removing punctuations"
      ]
    },
    {
      "cell_type": "code",
      "execution_count": 6,
      "id": "96c79bce",
      "metadata": {
        "id": "96c79bce"
      },
      "outputs": [],
      "source": [
        "newText = text[:1000]\n",
        "# print(text)"
      ]
    },
    {
      "cell_type": "code",
      "execution_count": 10,
      "id": "69febad3",
      "metadata": {
        "colab": {
          "base_uri": "https://localhost:8080/"
        },
        "id": "69febad3",
        "outputId": "ebf0c80d-0055-495a-a755-9cca0daf6683"
      },
      "outputs": [
        {
          "output_type": "execute_result",
          "data": {
            "text/plain": [
              "['the king james bible  the old testament of the king james bible  the first book of moses  called genesis',\n",
              " 'in the beginning god created the heaven and the earth',\n",
              " 'and the earth was without form and void and darkness was upon the face of the deep and the spirit of god moved upon the face of the waters',\n",
              " 'and god said let there be light and there was light',\n",
              " 'and god saw the light that it was good and god divided the light from the darkness',\n",
              " 'and god called the light day and the darkness he called night and the evening and the morning were the first day',\n",
              " 'and god said let there be a firmament in the midst of the waters and let it divide the waters from the waters',\n",
              " 'and god made the firmament and divided the waters which were under the firmament from the waters which were above the firmament and it was so',\n",
              " 'and god called the firmament heaven and the evening and the morning were the second day',\n",
              " 'and god said let the waters under the heaven be gathered together unto one place and let the dry land appear and it was so']"
            ]
          },
          "metadata": {},
          "execution_count": 10
        }
      ],
      "source": [
        "import re\n",
        "import string\n",
        "\n",
        "# Split the text at each verse number like 1:1, 1:2, etc.\n",
        "parts = re.split(r'(?=\\d+:\\d+)', text)\n",
        "\n",
        "# Go through each part and print it if it's not empty\n",
        "lst1 = []\n",
        "for part in parts:\n",
        "    part = part.strip()  # Remove extra spaces or newlines\n",
        "    if part:  # Only show non-empty parts\n",
        "        # print(part)\n",
        "        str1 = ''\n",
        "        for y in part:\n",
        "            # print(y)\n",
        "            if y not in string.punctuation and (ord(y) < 48 or ord(y) > 57):\n",
        "                if y == '\\n':\n",
        "                    str1 += ' '\n",
        "                    continue\n",
        "                str1 += y.lower()\n",
        "    if str1:\n",
        "        lst1.append(str1.strip())\n",
        "    # print(lst1)\n",
        "lst1[:10]\n"
      ]
    },
    {
      "cell_type": "markdown",
      "id": "12146a94",
      "metadata": {
        "id": "12146a94"
      },
      "source": [
        "### Tokenizer"
      ]
    },
    {
      "cell_type": "code",
      "execution_count": 11,
      "id": "c75de77f",
      "metadata": {
        "id": "c75de77f"
      },
      "outputs": [],
      "source": [
        "# 1 - Fit on text\n",
        "# 2 Tokenizer\n",
        "\n",
        "from tensorflow.keras.preprocessing.text import Tokenizer\n",
        "\n",
        "token1 = Tokenizer()\n",
        "token1.fit_on_texts(lst1)\n",
        "total_words = len(token1.word_index) + 1\n",
        "\n",
        "tokenArr = []\n",
        "for x in lst1:\n",
        "    token_list = token1.texts_to_sequences([x])[0]\n",
        "    # print(token_list)\n",
        "    for y in range(1,len(token_list)):\n",
        "        # print(token_list[:y+1])\n",
        "        tokenArr.append(token_list[:y+1])"
      ]
    },
    {
      "cell_type": "markdown",
      "id": "ed293102",
      "metadata": {
        "id": "ed293102"
      },
      "source": [
        "### Padding the sequences"
      ]
    },
    {
      "cell_type": "code",
      "execution_count": 12,
      "id": "84a8ebbe",
      "metadata": {
        "id": "84a8ebbe"
      },
      "outputs": [],
      "source": [
        "from tensorflow.keras.preprocessing.sequence import pad_sequences\n",
        "import tensorflow.keras.utils as ku\n",
        "\n",
        "def generate_padded_sequences(input_sequences):\n",
        "    max_sequence_len = max([len(x) for x in input_sequences])\n",
        "    input_sequences = np.array(pad_sequences(input_sequences, maxlen=max_sequence_len, padding='pre'))\n",
        "\n",
        "    predictors, label = input_sequences[:,:-1],input_sequences[:,-1]\n",
        "    # label = ku.to_categorical(label, num_classes=total_words)\n",
        "    return predictors, label, max_sequence_len\n",
        "\n",
        "predictors, label, max_sequence_len = generate_padded_sequences(tokenArr)"
      ]
    },
    {
      "cell_type": "markdown",
      "id": "b60f3966",
      "metadata": {
        "id": "b60f3966"
      },
      "source": [
        "### Creating the model"
      ]
    },
    {
      "cell_type": "code",
      "execution_count": null,
      "id": "9c1a52bc",
      "metadata": {
        "colab": {
          "base_uri": "https://localhost:8080/"
        },
        "id": "9c1a52bc",
        "outputId": "b613d802-7d67-4dab-982b-1040490757cc"
      },
      "outputs": [
        {
          "output_type": "stream",
          "name": "stderr",
          "text": [
            "/usr/local/lib/python3.11/dist-packages/keras/src/layers/core/embedding.py:90: UserWarning: Argument `input_length` is deprecated. Just remove it.\n",
            "  warnings.warn(\n"
          ]
        }
      ],
      "source": [
        "from tensorflow.keras.layers import LSTM, Dense, Dropout, Embedding\n",
        "from tensorflow.keras.models import Sequential\n",
        "\n",
        "rnn = Sequential()\n",
        "\n",
        "# Add Input Embedding Layer\n",
        "rnn.add(Embedding(total_words, 10, input_length=max_sequence_len - 1))\n",
        "\n",
        "# Add Hidden Layer 1 - LSTM Layer\n",
        "# rnn.add(LSTM(128, return_sequences=True))\n",
        "# rnn.add(Dropout(0.1))\n",
        "\n",
        "rnn.add(LSTM(128))\n",
        "rnn.add(Dropout(0.1))\n",
        "\n",
        "# Add Output Layer\n",
        "rnn.add(Dense(total_words, activation='softmax'))\n",
        "\n",
        "rnn.compile(loss='sparse_categorical_crossentropy', optimizer='adam')\n",
        "\n"
      ]
    },
    {
      "cell_type": "code",
      "execution_count": null,
      "id": "cb3703d8",
      "metadata": {
        "colab": {
          "base_uri": "https://localhost:8080/"
        },
        "id": "cb3703d8",
        "outputId": "5c7cc1f4-5a5e-4276-f131-f33b327df7d1"
      },
      "outputs": [
        {
          "output_type": "stream",
          "name": "stdout",
          "text": [
            "Epoch 1/50\n",
            "\u001b[1m23717/23717\u001b[0m \u001b[32m━━━━━━━━━━━━━━━━━━━━\u001b[0m\u001b[37m\u001b[0m \u001b[1m170s\u001b[0m 7ms/step - loss: 5.5838\n",
            "Epoch 2/50\n",
            "\u001b[1m23717/23717\u001b[0m \u001b[32m━━━━━━━━━━━━━━━━━━━━\u001b[0m\u001b[37m\u001b[0m \u001b[1m197s\u001b[0m 7ms/step - loss: 4.6314\n",
            "Epoch 3/50\n",
            "\u001b[1m23717/23717\u001b[0m \u001b[32m━━━━━━━━━━━━━━━━━━━━\u001b[0m\u001b[37m\u001b[0m \u001b[1m202s\u001b[0m 7ms/step - loss: 4.3944\n",
            "Epoch 4/50\n",
            "\u001b[1m23717/23717\u001b[0m \u001b[32m━━━━━━━━━━━━━━━━━━━━\u001b[0m\u001b[37m\u001b[0m \u001b[1m203s\u001b[0m 7ms/step - loss: 4.2734\n",
            "Epoch 5/50\n",
            "\u001b[1m23717/23717\u001b[0m \u001b[32m━━━━━━━━━━━━━━━━━━━━\u001b[0m\u001b[37m\u001b[0m \u001b[1m165s\u001b[0m 7ms/step - loss: 4.1883\n",
            "Epoch 6/50\n",
            "\u001b[1m23717/23717\u001b[0m \u001b[32m━━━━━━━━━━━━━━━━━━━━\u001b[0m\u001b[37m\u001b[0m \u001b[1m202s\u001b[0m 7ms/step - loss: 4.1396\n",
            "Epoch 7/50\n",
            "\u001b[1m23717/23717\u001b[0m \u001b[32m━━━━━━━━━━━━━━━━━━━━\u001b[0m\u001b[37m\u001b[0m \u001b[1m200s\u001b[0m 7ms/step - loss: 4.1048\n",
            "Epoch 8/50\n",
            "\u001b[1m23717/23717\u001b[0m \u001b[32m━━━━━━━━━━━━━━━━━━━━\u001b[0m\u001b[37m\u001b[0m \u001b[1m205s\u001b[0m 7ms/step - loss: 4.0813\n",
            "Epoch 9/50\n",
            "\u001b[1m23717/23717\u001b[0m \u001b[32m━━━━━━━━━━━━━━━━━━━━\u001b[0m\u001b[37m\u001b[0m \u001b[1m200s\u001b[0m 7ms/step - loss: 4.0582\n",
            "Epoch 10/50\n",
            "\u001b[1m23717/23717\u001b[0m \u001b[32m━━━━━━━━━━━━━━━━━━━━\u001b[0m\u001b[37m\u001b[0m \u001b[1m201s\u001b[0m 7ms/step - loss: 4.0333\n",
            "Epoch 11/50\n",
            "\u001b[1m23717/23717\u001b[0m \u001b[32m━━━━━━━━━━━━━━━━━━━━\u001b[0m\u001b[37m\u001b[0m \u001b[1m202s\u001b[0m 7ms/step - loss: 4.0219\n",
            "Epoch 12/50\n",
            "\u001b[1m23717/23717\u001b[0m \u001b[32m━━━━━━━━━━━━━━━━━━━━\u001b[0m\u001b[37m\u001b[0m \u001b[1m202s\u001b[0m 7ms/step - loss: 4.0095\n",
            "Epoch 13/50\n",
            "\u001b[1m23717/23717\u001b[0m \u001b[32m━━━━━━━━━━━━━━━━━━━━\u001b[0m\u001b[37m\u001b[0m \u001b[1m163s\u001b[0m 7ms/step - loss: 3.9980\n",
            "Epoch 14/50\n",
            "\u001b[1m23717/23717\u001b[0m \u001b[32m━━━━━━━━━━━━━━━━━━━━\u001b[0m\u001b[37m\u001b[0m \u001b[1m202s\u001b[0m 7ms/step - loss: 3.9809\n",
            "Epoch 15/50\n",
            "\u001b[1m23717/23717\u001b[0m \u001b[32m━━━━━━━━━━━━━━━━━━━━\u001b[0m\u001b[37m\u001b[0m \u001b[1m202s\u001b[0m 7ms/step - loss: 3.9694\n",
            "Epoch 16/50\n",
            "\u001b[1m23717/23717\u001b[0m \u001b[32m━━━━━━━━━━━━━━━━━━━━\u001b[0m\u001b[37m\u001b[0m \u001b[1m163s\u001b[0m 7ms/step - loss: 3.9554\n",
            "Epoch 17/50\n",
            "\u001b[1m23717/23717\u001b[0m \u001b[32m━━━━━━━━━━━━━━━━━━━━\u001b[0m\u001b[37m\u001b[0m \u001b[1m163s\u001b[0m 7ms/step - loss: 3.9510\n",
            "Epoch 18/50\n",
            "\u001b[1m23717/23717\u001b[0m \u001b[32m━━━━━━━━━━━━━━━━━━━━\u001b[0m\u001b[37m\u001b[0m \u001b[1m203s\u001b[0m 7ms/step - loss: 3.9477\n",
            "Epoch 19/50\n",
            "\u001b[1m23717/23717\u001b[0m \u001b[32m━━━━━━━━━━━━━━━━━━━━\u001b[0m\u001b[37m\u001b[0m \u001b[1m163s\u001b[0m 7ms/step - loss: 3.9400\n",
            "Epoch 20/50\n",
            "\u001b[1m23717/23717\u001b[0m \u001b[32m━━━━━━━━━━━━━━━━━━━━\u001b[0m\u001b[37m\u001b[0m \u001b[1m165s\u001b[0m 7ms/step - loss: 3.9324\n",
            "Epoch 21/50\n",
            "\u001b[1m23717/23717\u001b[0m \u001b[32m━━━━━━━━━━━━━━━━━━━━\u001b[0m\u001b[37m\u001b[0m \u001b[1m203s\u001b[0m 7ms/step - loss: 3.9298\n",
            "Epoch 22/50\n",
            "\u001b[1m23717/23717\u001b[0m \u001b[32m━━━━━━━━━━━━━━━━━━━━\u001b[0m\u001b[37m\u001b[0m \u001b[1m200s\u001b[0m 7ms/step - loss: 3.9192\n",
            "Epoch 23/50\n",
            "\u001b[1m23717/23717\u001b[0m \u001b[32m━━━━━━━━━━━━━━━━━━━━\u001b[0m\u001b[37m\u001b[0m \u001b[1m164s\u001b[0m 7ms/step - loss: 3.9234\n",
            "Epoch 24/50\n",
            "\u001b[1m23717/23717\u001b[0m \u001b[32m━━━━━━━━━━━━━━━━━━━━\u001b[0m\u001b[37m\u001b[0m \u001b[1m201s\u001b[0m 7ms/step - loss: 3.9195\n",
            "Epoch 25/50\n",
            "\u001b[1m23717/23717\u001b[0m \u001b[32m━━━━━━━━━━━━━━━━━━━━\u001b[0m\u001b[37m\u001b[0m \u001b[1m163s\u001b[0m 7ms/step - loss: 3.9129\n",
            "Epoch 26/50\n",
            "\u001b[1m23717/23717\u001b[0m \u001b[32m━━━━━━━━━━━━━━━━━━━━\u001b[0m\u001b[37m\u001b[0m \u001b[1m162s\u001b[0m 7ms/step - loss: 3.9064\n",
            "Epoch 27/50\n",
            "\u001b[1m23717/23717\u001b[0m \u001b[32m━━━━━━━━━━━━━━━━━━━━\u001b[0m\u001b[37m\u001b[0m \u001b[1m203s\u001b[0m 7ms/step - loss: 3.8990\n",
            "Epoch 28/50\n",
            "\u001b[1m23717/23717\u001b[0m \u001b[32m━━━━━━━━━━━━━━━━━━━━\u001b[0m\u001b[37m\u001b[0m \u001b[1m201s\u001b[0m 7ms/step - loss: 3.8947\n",
            "Epoch 29/50\n",
            "\u001b[1m23717/23717\u001b[0m \u001b[32m━━━━━━━━━━━━━━━━━━━━\u001b[0m\u001b[37m\u001b[0m \u001b[1m202s\u001b[0m 7ms/step - loss: 3.8895\n",
            "Epoch 30/50\n",
            "\u001b[1m23717/23717\u001b[0m \u001b[32m━━━━━━━━━━━━━━━━━━━━\u001b[0m\u001b[37m\u001b[0m \u001b[1m203s\u001b[0m 7ms/step - loss: 3.8866\n",
            "Epoch 31/50\n",
            "\u001b[1m14463/23717\u001b[0m \u001b[32m━━━━━━━━━━━━\u001b[0m\u001b[37m━━━━━━━━\u001b[0m \u001b[1m1:03\u001b[0m 7ms/step - loss: 3.8674"
          ]
        }
      ],
      "source": [
        "rnn.fit(predictors, label, epochs=50)"
      ]
    },
    {
      "cell_type": "markdown",
      "source": [
        "### Text Generation Function"
      ],
      "metadata": {
        "id": "jkx891RIuSB7"
      },
      "id": "jkx891RIuSB7"
    },
    {
      "cell_type": "code",
      "source": [
        "def generateText(seedText, nextWords, maxSequenceLen):\n",
        "    for _ in range(nextWords):\n",
        "        tokenList = token1.texts_to_sequences([seedText])[0]\n",
        "        tokenList = pad_sequences([tokenList], maxlen=maxSequenceLen - 1, padding='pre')\n",
        "        predicted = rnn.predict(tokenList, verbose=0)\n",
        "        predictedIndex = np.argmax(predicted)\n",
        "\n",
        "        outputWord = ''\n",
        "        for word, index in token1.word_index.items():\n",
        "            if index == predictedIndex:\n",
        "\n",
        "                outputWord = word\n",
        "                break\n",
        "\n",
        "        seedText += \" \" + outputWord\n",
        "    return seedText\n"
      ],
      "metadata": {
        "id": "AYDPp9z8Rjpl"
      },
      "id": "AYDPp9z8Rjpl",
      "execution_count": 14,
      "outputs": []
    },
    {
      "cell_type": "markdown",
      "source": [
        "### Generate Text Using the Trained Model"
      ],
      "metadata": {
        "id": "YXv2M2m6upMZ"
      },
      "id": "YXv2M2m6upMZ"
    },
    {
      "cell_type": "code",
      "source": [
        "print(generateText(\"I am the\", nextWords=10, maxSequenceLen=max_sequence_len))\n",
        "print(generateText(\"Our Father\", nextWords=10, maxSequenceLen=max_sequence_len))\n",
        "print(generateText(\"Thou shall\", nextWords=10, maxSequenceLen=max_sequence_len))\n",
        "\n"
      ],
      "metadata": {
        "colab": {
          "base_uri": "https://localhost:8080/"
        },
        "id": "cnbNxWt9rnIN",
        "outputId": "2accd8c8-77ec-4594-e519-22a52534b5b3"
      },
      "id": "cnbNxWt9rnIN",
      "execution_count": 20,
      "outputs": [
        {
          "output_type": "stream",
          "name": "stdout",
          "text": [
            "I am the lord your god and your fathers and your brethren and\n",
            "Our Father is not a faithful man of god and we are\n",
            "Thou shall not be ashamed of thy god and thy fathers shall\n"
          ]
        }
      ]
    },
    {
      "cell_type": "markdown",
      "source": [
        "### Saving the model"
      ],
      "metadata": {
        "id": "_DBIEOxBuwrg"
      },
      "id": "_DBIEOxBuwrg"
    },
    {
      "cell_type": "code",
      "source": [
        "rnn.save('Model1.h5')"
      ],
      "metadata": {
        "id": "vn8Ok_P0Rghy",
        "colab": {
          "base_uri": "https://localhost:8080/"
        },
        "outputId": "88f0d83d-7049-4017-d26b-41859fb3a08c"
      },
      "id": "vn8Ok_P0Rghy",
      "execution_count": 21,
      "outputs": [
        {
          "output_type": "stream",
          "name": "stderr",
          "text": [
            "WARNING:absl:You are saving your model as an HDF5 file via `model.save()` or `keras.saving.save_model(model)`. This file format is considered legacy. We recommend using instead the native Keras format, e.g. `model.save('my_model.keras')` or `keras.saving.save_model(model, 'my_model.keras')`. \n"
          ]
        }
      ]
    }
  ],
  "metadata": {
    "accelerator": "GPU",
    "colab": {
      "gpuType": "T4",
      "provenance": []
    },
    "kernelspec": {
      "display_name": "Python 3",
      "name": "python3"
    },
    "language_info": {
      "codemirror_mode": {
        "name": "ipython",
        "version": 3
      },
      "file_extension": ".py",
      "mimetype": "text/x-python",
      "name": "python",
      "nbconvert_exporter": "python",
      "pygments_lexer": "ipython3",
      "version": "3.12.10"
    }
  },
  "nbformat": 4,
  "nbformat_minor": 5
}